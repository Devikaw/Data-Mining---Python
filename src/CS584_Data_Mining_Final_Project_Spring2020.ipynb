{
 "cells": [
  {
   "cell_type": "markdown",
   "metadata": {},
   "source": [
    "Importing all the libraries"
   ]
  },
  {
   "cell_type": "code",
   "execution_count": 1,
   "metadata": {},
   "outputs": [],
   "source": [
    "import pandas as pd\n",
    "import numpy as np\n",
    "from sklearn.model_selection import train_test_split\n",
    "from sklearn.preprocessing import StandardScaler\n",
    "from sklearn.decomposition import PCA\n",
    "from sklearn.decomposition import TruncatedSVD\n",
    "from imblearn.over_sampling import SMOTE \n",
    "from sklearn.metrics import f1_score\n",
    "from matplotlib import pyplot as plt\n",
    "import matplotlib.ticker as mtick\n",
    "pd.set_option('display.max_rows', None)\n",
    "pd.set_option('display.max_columns', None)\n",
    "from sklearn.neighbors import LocalOutlierFactor\n",
    "from sklearn.tree import DecisionTreeClassifier\n",
    "from sklearn.linear_model import LogisticRegression\n",
    "from sklearn.neighbors import KNeighborsClassifier\n",
    "from sklearn.ensemble import RandomForestClassifier\n",
    "from sklearn.ensemble import GradientBoostingClassifier\n",
    "from sklearn.naive_bayes import GaussianNB\n",
    "from sklearn.neural_network import MLPClassifier\n",
    "from sklearn.linear_model import LinearRegression\n",
    "from sklearn.ensemble import AdaBoostClassifier\n",
    "from sklearn.linear_model import LogisticRegressionCV\n",
    "import warnings\n",
    "warnings.filterwarnings('ignore')"
   ]
  },
  {
   "cell_type": "markdown",
   "metadata": {},
   "source": [
    "clean_inpatient_data() discards the irrelevant medical information columns. It cleans the data and modifies the column names from the data source in understandable terms. Also, it adds a column 'Admit for days' by calculating the difference between the start and the end date."
   ]
  },
  {
   "cell_type": "code",
   "execution_count": 2,
   "metadata": {},
   "outputs": [],
   "source": [
    "def clean_inpatient_data():\n",
    "    df = pd.read_csv('/Users/snehawattamwar/Downloads/Data Mining Project/DataFiles/CMSInpatientData.csv')\n",
    "    df = df.iloc[:,0:36]\n",
    "    df['CLM_FROM_DT']=pd.to_datetime(df['CLM_FROM_DT'].astype(str), format='%Y%m%d')\n",
    "    df['CLM_THRU_DT']=pd.to_datetime(df['CLM_THRU_DT'].astype(str), format='%Y%m%d')\n",
    "    df['CLM_ADMSN_DT']=pd.to_datetime(df['CLM_ADMSN_DT'].astype(str), format='%Y%m%d')\n",
    "    df['NCH_BENE_DSCHRG_DT']=pd.to_datetime(df['NCH_BENE_DSCHRG_DT'].astype(str), format='%Y%m%d')\n",
    "    col = ['Benificiary Code', 'Claim Id', 'Claim Line Segment', 'Claims Start Date', 'Claims End Date', \n",
    "       'Provider Institution', 'Claim Payment Amount', 'NCH_PRMRY_PYR_CLM_PD_AMT', 'Attending Physician', \n",
    "       'Operating Physician', 'Other Physician', 'Admission Date', 'Admitting Diagnosis Code', \n",
    "       'CLM_PASS_THRU_PER_DIEM_AMT', 'Deductible Amount', 'NCH_BENE_PTA_COINSRNC_LBLTY_AM', \n",
    "       'NCH_BENE_BLOOD_DDCTBL_LBLTY_AM', 'CLM_UTLZTN_DAY_CNT', 'Discharge Date', 'Diagnosis Group Code', \n",
    "       'Claim Diagnosis Code_1', 'Claim Diagnosis Code_2', 'Claim Diagnosis Code_3', 'Claim Diagnosis Code_4', \n",
    "       'Claim Diagnosis Code_5', 'Claim Diagnosis Code_6', 'Claim Diagnosis Code_7', 'Claim Diagnosis Code_8', \n",
    "       'Claim Diagnosis Code_9', 'Claim Diagnosis Code_10', 'Claim Procedure Code_1', 'Claim Procedure Code_2', \n",
    "       'Claim Procedure Code_3', 'Claim Procedure Code_4', 'Claim Procedure Code_5', 'Claim Procedure Code_6']\n",
    "    df = pd.DataFrame(np.array(df),columns=col)\n",
    "    df['AdmitForDays'] = ((df['Discharge Date'] - df['Admission Date']).dt.days)+1\n",
    "    return df"
   ]
  },
  {
   "cell_type": "markdown",
   "metadata": {},
   "source": [
    "clean_outpatient_data() discards the irrelevant medical information columns. It cleans the data and \n",
    "modifies the column names from the data source in understandable terms."
   ]
  },
  {
   "cell_type": "code",
   "execution_count": 3,
   "metadata": {},
   "outputs": [],
   "source": [
    "def clean_outpatient_data():\n",
    "    df = pd.read_csv('/Users/snehawattamwar/Downloads/Data Mining Project/DataFiles/CMSOutPatientData.csv')\n",
    "    df = df.iloc[:,0:31]\n",
    "    df['CLM_FROM_DT']=pd.to_datetime(df['CLM_FROM_DT'].astype(str), format='%Y%m%d')\n",
    "    df['CLM_THRU_DT']=pd.to_datetime(df['CLM_THRU_DT'].astype(str), format='%Y%m%d')\n",
    "    col = ['Benificiary Code', 'Claim Id', 'Claim Line Segment', 'Claims Start Date', 'Claims End Date', \n",
    "       'Provider Institution', 'Claim Payment Amount', 'NCH_PRMRY_PYR_CLM_PD_AMT', 'Attending Physician', \n",
    "       'Operating Physician', 'Other Physician', 'NCH_BENE_BLOOD_DDCTBL_LBLTY_AM', 'Claim Diagnosis Code_1', \n",
    "       'Claim Diagnosis Code_2', 'Claim Diagnosis Code_3', 'Claim Diagnosis Code_4','Claim Diagnosis Code_5',\n",
    "       'Claim Diagnosis Code_6', 'Claim Diagnosis Code_7', 'Claim Diagnosis Code_8', \n",
    "       'Claim Diagnosis Code_9', 'Claim Diagnosis Code_10', 'Claim Procedure Code_1', 'Claim Procedure Code_2', \n",
    "       'Claim Procedure Code_3', 'Claim Procedure Code_4', 'Claim Procedure Code_5', 'Claim Procedure Code_6', \n",
    "       'NCH_BENE_PTB_DDCTBL_AMT', 'NCH_BENE_PTB_COINSRNC_AMT', 'Claim Admit Diagnosis Code']\n",
    "    df = pd.DataFrame(np.array(df),columns=col)\n",
    "    return df"
   ]
  },
  {
   "cell_type": "markdown",
   "metadata": {},
   "source": [
    "clean_beneficiary_data() discards the irrelevant medical information columns. It cleans the data and modifies the column names from the data source in understandable terms. \n",
    "Also, it adds two columns, 'Age' by calculating the difference between the DOB and the DOD and 'WhetherDead'. "
   ]
  },
  {
   "cell_type": "code",
   "execution_count": 4,
   "metadata": {},
   "outputs": [],
   "source": [
    "def clean_beneficiary_data():\n",
    "    df = pd.read_csv('/Users/snehawattamwar/Downloads/Data Mining Project/DataFiles/CMSBeneficiaryData.csv')\n",
    "    col = ['Benificiary Code', 'DOB', 'DOD', 'Gender', 'Race_code', 'Renal Disease Indicator', 'State', \n",
    "           'County', 'NoOfMonths_PartACov', 'NoOfMonths_PartBCov', 'NoOfMonths_HMOCov', 'NoOfMonths_PartDCov', \n",
    "       'Chronic Condition Alzeimer', \n",
    "       'Chronic Condition Heart Failure', 'Chronic Condition Kidney Disease', 'Chronic Condition Cancer', \n",
    "       'Chronic Condition Obstr Pulmonary',\n",
    "       'Chronic Condition Depression', 'Chronic Condition Diabetes', 'Chronic Condition Ischemic Heart Disease', \n",
    "       'Chronic Condition Osteoporosis',\n",
    "       'Chronic Condition Rhematoidarthritis', 'Chronic Condition Stroke', 'IP Annual Reimbersement Amt', \n",
    "       'BENRES_IP', 'PPPYMT_IP', 'OP Annual Reimbersement Amt', 'BENRES_OP', 'PPPYMT_OP', 'MEDREIMB_CAR',  \n",
    "       'BENRES_CAR', 'PPPYMT_CAR']\n",
    "    df = pd.DataFrame(np.array(df),columns=col)\n",
    "    df['DOB']=pd.to_datetime(df['DOB'].astype(str), format='%Y%m%d')\n",
    "    df['DOD']=pd.to_datetime(df['DOD'].astype(str), format='%Y%m%d', errors='ignore')\n",
    "    df = df.replace({'Chronic Condition Alzeimer': 2, \n",
    "       'Chronic Condition Heart Failure': 2, 'Chronic Condition Kidney Disease': 2, 'Chronic Condition Cancer': 2, \n",
    "       'Chronic Condition Obstr Pulmonary': 2,\n",
    "       'Chronic Condition Depression': 2, 'Chronic Condition Diabetes': 2, 'Chronic Condition Ischemic Heart Disease': 2, \n",
    "       'Chronic Condition Osteoporosis': 2,\n",
    "       'Chronic Condition Rhematoidarthritis': 2, 'Chronic Condition Stroke': 2}, 0)\n",
    "    df['Age'] = round(((df['DOD'] - df['DOB']).dt.days)/365)\n",
    "    df['Age'] = df['Age'].fillna(round(((pd.to_datetime('2008-12-01' , format = '%Y-%m-%d') - df['DOB']).dt.days)/365))  \n",
    "    df.loc[df.DOD.isna(),'WhetherDead']=0\n",
    "    df.loc[df.DOD.notna(),'WhetherDead']=1\n",
    "    return df"
   ]
  },
  {
   "cell_type": "markdown",
   "metadata": {},
   "source": [
    "merge_data() merges the inpatient and outpatient records using the unique beneficiary values as the inner join key."
   ]
  },
  {
   "cell_type": "code",
   "execution_count": 5,
   "metadata": {},
   "outputs": [],
   "source": [
    "def merge_data(df_inpatient, df_outpatient, df_beneficiary):\n",
    "    df_all_patient_data = pd.merge(df_outpatient,df_inpatient,\n",
    "                              left_on=['Benificiary Code', 'Claim Id', 'Claim Line Segment',\n",
    "       'Claims Start Date', 'Claims End Date', 'Provider Institution',\n",
    "       'Claim Payment Amount', 'NCH_PRMRY_PYR_CLM_PD_AMT',\n",
    "       'Attending Physician', 'Operating Physician', 'Other Physician',\n",
    "       'NCH_BENE_BLOOD_DDCTBL_LBLTY_AM', 'Claim Diagnosis Code_1',\n",
    "       'Claim Diagnosis Code_2', 'Claim Diagnosis Code_3',\n",
    "       'Claim Diagnosis Code_4', 'Claim Diagnosis Code_5',\n",
    "       'Claim Diagnosis Code_6', 'Claim Diagnosis Code_7',\n",
    "       'Claim Diagnosis Code_8', 'Claim Diagnosis Code_9',\n",
    "       'Claim Diagnosis Code_10', 'Claim Procedure Code_1',\n",
    "       'Claim Procedure Code_2', 'Claim Procedure Code_3',\n",
    "       'Claim Procedure Code_4', 'Claim Procedure Code_5',\n",
    "       'Claim Procedure Code_6'],\n",
    "                              right_on=['Benificiary Code', 'Claim Id', 'Claim Line Segment',\n",
    "       'Claims Start Date', 'Claims End Date', 'Provider Institution',\n",
    "       'Claim Payment Amount', 'NCH_PRMRY_PYR_CLM_PD_AMT',\n",
    "       'Attending Physician', 'Operating Physician', 'Other Physician',\n",
    "       'NCH_BENE_BLOOD_DDCTBL_LBLTY_AM', 'Claim Diagnosis Code_1',\n",
    "       'Claim Diagnosis Code_2', 'Claim Diagnosis Code_3',\n",
    "       'Claim Diagnosis Code_4', 'Claim Diagnosis Code_5',\n",
    "       'Claim Diagnosis Code_6', 'Claim Diagnosis Code_7',\n",
    "       'Claim Diagnosis Code_8', 'Claim Diagnosis Code_9',\n",
    "       'Claim Diagnosis Code_10', 'Claim Procedure Code_1',\n",
    "       'Claim Procedure Code_2', 'Claim Procedure Code_3',\n",
    "       'Claim Procedure Code_4', 'Claim Procedure Code_5',\n",
    "       'Claim Procedure Code_6'],how='outer')\n",
    "    all_patient_data = pd.merge(df_all_patient_data,df_beneficiary,\n",
    "                                     left_on='Benificiary Code',right_on='Benificiary Code',how='inner')\n",
    "    return all_patient_data"
   ]
  },
  {
   "cell_type": "markdown",
   "metadata": {},
   "source": [
    "clean_data() calls all the above data cleaning functions for inpatient, outpatient and beenficiary files respectively, \n",
    "merges the data and returns it to the calling function."
   ]
  },
  {
   "cell_type": "code",
   "execution_count": 6,
   "metadata": {},
   "outputs": [],
   "source": [
    "def clean_data():\n",
    "    train_inpatient = clean_inpatient_data()\n",
    "    train_outpatient = clean_outpatient_data()\n",
    "    train_beneficiary = clean_beneficiary_data()\n",
    "    train_all_patient_data = merge_data(train_inpatient, train_outpatient, train_beneficiary)\n",
    "    return train_all_patient_data"
   ]
  },
  {
   "cell_type": "markdown",
   "metadata": {},
   "source": [
    "process_test_data performs all the cleaning and processing actions on the test data."
   ]
  },
  {
   "cell_type": "code",
   "execution_count": 7,
   "metadata": {},
   "outputs": [],
   "source": [
    "def process_test_data():\n",
    "    Test_Beneficiarydata=pd.read_csv('/Users/snehawattamwar/Downloads/Data Mining Project/DataFiles/KaggleTest_Beneficiarydata.csv')\n",
    "    Test_Inpatientdata=pd.read_csv('/Users/snehawattamwar/Downloads/Data Mining Project/DataFiles/KaggleTest_Inpatientdata.csv')\n",
    "    Test_Outpatientdata=pd.read_csv('/Users/snehawattamwar/Downloads/Data Mining Project/DataFiles/KaggleTest_Outpatientdata.csv')\n",
    "    \n",
    "    \n",
    "    Test_Inpatientdata['AdmissionDt'] = pd.to_datetime(Test_Inpatientdata['AdmissionDt'] , format = '%Y-%m-%d')\n",
    "    Test_Inpatientdata['DischargeDt'] = pd.to_datetime(Test_Inpatientdata['DischargeDt'],format = '%Y-%m-%d')\n",
    "    Test_Inpatientdata['AdmitForDays'] = ((Test_Inpatientdata['DischargeDt'] - Test_Inpatientdata['AdmissionDt']).dt.days)+1\n",
    "\n",
    "    Test_Beneficiarydata = Test_Beneficiarydata.replace({'ChronicCond_Alzheimer': 2, \n",
    "                           'ChronicCond_Heartfailure': 2, 'ChronicCond_KidneyDisease': 2,\n",
    "                           'ChronicCond_Cancer': 2, 'ChronicCond_ObstrPulmonary': 2, 'ChronicCond_Depression': 2, \n",
    "                           'ChronicCond_Diabetes': 2, 'ChronicCond_IschemicHeart': 2, 'ChronicCond_Osteoporasis': 2, \n",
    "                           'ChronicCond_rheumatoidarthritis': 2, 'ChronicCond_stroke': 2 }, 0)\n",
    "\n",
    "    Test_Beneficiarydata = Test_Beneficiarydata.replace({'RenalDiseaseIndicator': 'Y'}, 1)\n",
    "\n",
    "    Test_Beneficiarydata['DOB'] = pd.to_datetime(Test_Beneficiarydata['DOB'] , format = '%Y-%m-%d')\n",
    "    Test_Beneficiarydata['DOD'] = pd.to_datetime(Test_Beneficiarydata['DOD'],format = '%Y-%m-%d',errors='ignore')\n",
    "    Test_Beneficiarydata['Age'] = round(((Test_Beneficiarydata['DOD'] - Test_Beneficiarydata['DOB']).dt.days)/365)\n",
    "    \n",
    "    Test_Beneficiarydata.Age.fillna(round(((pd.to_datetime('2009-12-01' , format = '%Y-%m-%d') - Test_Beneficiarydata['DOB']).dt.days)/365),\n",
    "                                 inplace=True)\n",
    "    \n",
    "    Test_Beneficiarydata.loc[Test_Beneficiarydata.DOD.isna(),'WhetherDead']=0\n",
    "    Test_Beneficiarydata.loc[Test_Beneficiarydata.DOD.notna(),'WhetherDead']=1\n",
    "\n",
    "    Test_Allpatientdata=pd.merge(Test_Outpatientdata, Test_Inpatientdata,\n",
    "                              left_on=['BeneID', 'ClaimID', 'ClaimStartDt', 'ClaimEndDt', 'Provider',\n",
    "       'InscClaimAmtReimbursed', 'AttendingPhysician', 'OperatingPhysician',\n",
    "       'OtherPhysician', 'ClmDiagnosisCode_1', 'ClmDiagnosisCode_2',\n",
    "       'ClmDiagnosisCode_3', 'ClmDiagnosisCode_4', 'ClmDiagnosisCode_5',\n",
    "       'ClmDiagnosisCode_6', 'ClmDiagnosisCode_7', 'ClmDiagnosisCode_8',\n",
    "       'ClmDiagnosisCode_9', 'ClmDiagnosisCode_10', 'ClmProcedureCode_1',\n",
    "       'ClmProcedureCode_2', 'ClmProcedureCode_3', 'ClmProcedureCode_4',\n",
    "       'ClmProcedureCode_5', 'ClmProcedureCode_6', 'DeductibleAmtPaid',\n",
    "       'ClmAdmitDiagnosisCode'],\n",
    "                              right_on=['BeneID', 'ClaimID', 'ClaimStartDt', 'ClaimEndDt', 'Provider',\n",
    "       'InscClaimAmtReimbursed', 'AttendingPhysician', 'OperatingPhysician',\n",
    "       'OtherPhysician', 'ClmDiagnosisCode_1', 'ClmDiagnosisCode_2',\n",
    "       'ClmDiagnosisCode_3', 'ClmDiagnosisCode_4', 'ClmDiagnosisCode_5',\n",
    "       'ClmDiagnosisCode_6', 'ClmDiagnosisCode_7', 'ClmDiagnosisCode_8',\n",
    "       'ClmDiagnosisCode_9', 'ClmDiagnosisCode_10', 'ClmProcedureCode_1',\n",
    "       'ClmProcedureCode_2', 'ClmProcedureCode_3', 'ClmProcedureCode_4',\n",
    "       'ClmProcedureCode_5', 'ClmProcedureCode_6', 'DeductibleAmtPaid',\n",
    "       'ClmAdmitDiagnosisCode']\n",
    "                              ,how='outer')\n",
    "    Test_AllPatientDetailsdata=pd.merge(Test_Allpatientdata,Test_Beneficiarydata,left_on='BeneID',right_on='BeneID',how='inner')        #return Test_AllPatientDetailsdata\n",
    "    return Test_AllPatientDetailsdata    "
   ]
  },
  {
   "cell_type": "markdown",
   "metadata": {},
   "source": [
    "data_conversion_to_number() handles the missing values and \n",
    "drops all the non-numerical values in the training and the testing data set."
   ]
  },
  {
   "cell_type": "code",
   "execution_count": 8,
   "metadata": {},
   "outputs": [],
   "source": [
    "def data_conversion_to_number():\n",
    "    train_all_patient_data = clean_data()\n",
    "    train_all_patient_data = train_all_patient_data.drop(columns=['Claim Line Segment', 'NCH_PRMRY_PYR_CLM_PD_AMT', 'NCH_BENE_BLOOD_DDCTBL_LBLTY_AM',\n",
    "                                   'NCH_BENE_PTB_COINSRNC_AMT', 'Admitting Diagnosis Code', 'CLM_PASS_THRU_PER_DIEM_AMT',\n",
    "                                   'Deductible Amount', 'NCH_BENE_PTA_COINSRNC_LBLTY_AM', 'CLM_UTLZTN_DAY_CNT',\n",
    "                                   'NoOfMonths_HMOCov', 'NoOfMonths_PartDCov', 'BENRES_IP', 'BENRES_OP', 'MEDREIMB_CAR',\n",
    "                                   'BENRES_CAR', 'PPPYMT_CAR'])\n",
    "    test_all_patient_data = process_test_data()\n",
    "\n",
    "    number_columns= train_all_patient_data.select_dtypes([np.number]).columns\n",
    "    train_number_data = train_all_patient_data[number_columns].fillna(value=0)\n",
    "\n",
    "    number_columns= test_all_patient_data.select_dtypes([np.number]).columns\n",
    "    test_number_data = test_all_patient_data[number_columns].fillna(value=0)\n",
    "\n",
    "    train_number_data = train_number_data.drop(columns=['Claim Payment Amount', 'Attending Physician',\n",
    "           'Operating Physician', 'Other Physician'])\n",
    "    test_number_data = test_number_data.drop(columns=['ClmProcedureCode_2',\n",
    "           'ClmProcedureCode_3', 'ClmProcedureCode_4', 'ClmProcedureCode_5',\n",
    "           'ClmProcedureCode_6', 'DeductibleAmtPaid'])\n",
    "\n",
    "    train_number_data[train_number_data.columns] = train_number_data[train_number_data.columns].fillna(value=0)\n",
    "    test_number_data[test_number_data.columns] = test_number_data[test_number_data.columns].fillna(value=0)\n",
    "    return train_number_data, test_number_data"
   ]
  },
  {
   "cell_type": "markdown",
   "metadata": {},
   "source": [
    "create_train_test_labels() labels the unsupervied training records using the anomaly/outlier detection technique for further training the classifier model (-1 - Fraudulent / 1 - Non-Fraudulent). The labels for test data are created by using the trained classifier."
   ]
  },
  {
   "cell_type": "code",
   "execution_count": 9,
   "metadata": {},
   "outputs": [],
   "source": [
    "def create_train_test_labels():\n",
    "    X_tr, X_te = data_conversion_to_number()\n",
    "    sc = StandardScaler() \n",
    "    X = sc.fit_transform(X_tr)\n",
    "    clf = LocalOutlierFactor(n_neighbors=2)\n",
    "    X_train = pd.DataFrame(X).iloc[:100000,:]\n",
    "    y_train = clf.fit_predict(X_train)\n",
    "    sm = SMOTE(random_state = 2) \n",
    "    X_train_res, y_train_res = sm.fit_sample(X_train, y_train.ravel())\n",
    "    log_reg = LogisticRegressionCV(cv=10, class_weight='balanced')\n",
    "    log_reg.fit(X_train_res, y_train_res)\n",
    "    X_test = sc.transform(X_te)\n",
    "    y_predict = log_reg.predict(X_test)\n",
    "    y_test = pd.read_csv('/Users/snehawattamwar/Downloads/Data Mining Project/DataFiles/KaggleTest_trueLabels.csv')\n",
    "    return y_predict, y_test"
   ]
  },
  {
   "cell_type": "markdown",
   "metadata": {},
   "source": [
    "predict_f1_score() predicts lables for each test record. Further, these records are grouped \n",
    "by the unique provider id and the label for fraud/non-fraud is decided by the maximum class records. "
   ]
  },
  {
   "cell_type": "code",
   "execution_count": 10,
   "metadata": {},
   "outputs": [],
   "source": [
    "def predict_f1_score():\n",
    "    testList = y_predict.tolist()\n",
    "    test_all_patient_data = process_test_data()\n",
    "    test_all_patient_data['label'] = testList\n",
    "    df_test = test_all_patient_data[['Provider','label']].copy()\n",
    "    grouped = df_test.groupby(['Provider']).sum()\n",
    "    grouped_new = grouped.sort_index()\n",
    "    y_test.PotentialFraud.replace(['Yes','No'],['1','0'],inplace=True)\n",
    "    trueLabels = y_test['PotentialFraud'].to_numpy()\n",
    "    pred = []\n",
    "    for index,row in grouped_new.iterrows():\n",
    "        if(row['label']>0):\n",
    "            pred.append(0)\n",
    "        else:\n",
    "            pred.append(1)\n",
    "    print(f1_score(trueLabels.astype(int), pred, average='weighted'))\n",
    "    return trueLabels, pred"
   ]
  },
  {
   "cell_type": "markdown",
   "metadata": {},
   "source": [
    "Call the create_train_test_labels() and predict_f1_score()"
   ]
  },
  {
   "cell_type": "code",
   "execution_count": 11,
   "metadata": {},
   "outputs": [
    {
     "name": "stdout",
     "output_type": "stream",
     "text": [
      "0.8619985325833521\n"
     ]
    }
   ],
   "source": [
    "y_predict, y_test = create_train_test_labels()\n",
    "true_labels, pred = predict_f1_score()"
   ]
  },
  {
   "cell_type": "markdown",
   "metadata": {},
   "source": [
    "Data Visualization and analysis"
   ]
  },
  {
   "cell_type": "markdown",
   "metadata": {},
   "source": [
    "show_highest_diagnosis_code_in_fradulent_data() displays frequency \n",
    "of diagnosis group code in fraudulent recods."
   ]
  },
  {
   "cell_type": "code",
   "execution_count": 12,
   "metadata": {},
   "outputs": [],
   "source": [
    "def show_highest_diagnosis_code_in_fradulent_data():\n",
    "    testList = y_predict.tolist()\n",
    "    test_all_patient_data = process_test_data()\n",
    "    test_all_patient_data['label'] = testList\n",
    "    fradulent_patient_data = test_all_patient_data[test_all_patient_data.label == -1]\n",
    "    fradulent_patient_data = fradulent_patient_data.fillna(0)\n",
    "    \n",
    "    df_diagnosis =  pd.DataFrame(columns = ['Diagnosis'])\n",
    "    df_diagnosis['Diagnosis'] = pd.concat([fradulent_patient_data['ClmDiagnosisCode_1'], \n",
    "                                           fradulent_patient_data['ClmDiagnosisCode_2'], \n",
    "                                           fradulent_patient_data['ClmDiagnosisCode_3'], \n",
    "                                           fradulent_patient_data['ClmDiagnosisCode_4'], \n",
    "                                           fradulent_patient_data['ClmDiagnosisCode_5'], \n",
    "                                           fradulent_patient_data['ClmDiagnosisCode_6'], \n",
    "                                           fradulent_patient_data['ClmDiagnosisCode_7'],  \n",
    "                                           fradulent_patient_data['ClmDiagnosisCode_8'], \n",
    "                                           fradulent_patient_data['ClmDiagnosisCode_9'], \n",
    "                                           fradulent_patient_data['ClmDiagnosisCode_10']], axis=0, sort=True).dropna()\n",
    "    \n",
    "    grouped_diagnosis = df_diagnosis['Diagnosis'].value_counts()\n",
    "    \n",
    "    grouped_diagnosis = grouped_diagnosis.to_frame()\n",
    "    grouped_diagnosis.columns = ['count']\n",
    "    grouped_diagnosis['Diagnosis'] = grouped_diagnosis.index\n",
    "    grouped_diagnosis['Percentage'] = (grouped_diagnosis['count']/sum(grouped_diagnosis['count']))*100\n",
    "    plot_diagnosis = grouped_diagnosis.iloc[1:].head(20)\n",
    "    plot_diagnosis.plot(x ='Diagnosis', y='Percentage', kind = 'bar', color = 'g')"
   ]
  },
  {
   "cell_type": "code",
   "execution_count": 13,
   "metadata": {},
   "outputs": [
    {
     "data": {
      "image/png": "[encoded data removed]",
      "text/plain": [
       "<Figure size 432x288 with 1 Axes>"
      ]
     },
     "metadata": {
      "needs_background": "light"
     },
     "output_type": "display_data"
    }
   ],
   "source": [
    "show_highest_diagnosis_code_in_fradulent_data()"
   ]
  },
  {
   "cell_type": "markdown",
   "metadata": {},
   "source": [
    "show_highest_procedure_code_in_fradulent_data() displays frequency \n",
    "of procedure code in fraudulent recods."
   ]
  },
  {
   "cell_type": "code",
   "execution_count": 14,
   "metadata": {},
   "outputs": [],
   "source": [
    "def show_highest_procedure_code_fradulent_data():\n",
    "    testList = y_predict.tolist()\n",
    "    test_all_patient_data = process_test_data()\n",
    "    test_all_patient_data['label'] = testList\n",
    "    fradulent_patient_data = test_all_patient_data[test_all_patient_data.label == 1]\n",
    "    fradulent_patient_data = fradulent_patient_data.fillna(0)\n",
    "    \n",
    "    df_procedures =  pd.DataFrame(columns = ['Procedures'])\n",
    "    df_procedures['Procedures'] = pd.concat([fradulent_patient_data['ClmProcedureCode_1'], \n",
    "                                             fradulent_patient_data['ClmProcedureCode_2'], \n",
    "                                          fradulent_patient_data['ClmProcedureCode_3'], \n",
    "                                             fradulent_patient_data['ClmProcedureCode_4'], \n",
    "                                          fradulent_patient_data['ClmProcedureCode_5'], \n",
    "                                             fradulent_patient_data['ClmProcedureCode_6']], \n",
    "                                          axis=0, sort=True).dropna()\n",
    "    \n",
    "    grouped_procedure = df_procedures['Procedures'].value_counts()\n",
    "    grouped_procedures = grouped_procedure.to_frame()\n",
    "    grouped_procedures.columns = ['count']\n",
    "    grouped_procedures['Procedure'] = grouped_procedure.index\n",
    "    grouped_procedures['Percentage'] = (grouped_procedures['count']/sum(grouped_procedures['count']))*100\n",
    "    plot_procedures = grouped_procedures.iloc[1:].head(20)\n",
    "    plot_procedures.plot(x ='Procedure', y='Percentage', kind = 'bar', color = 'g')"
   ]
  },
  {
   "cell_type": "code",
   "execution_count": 15,
   "metadata": {},
   "outputs": [
    {
     "data": {
      "image/png": "[encoded data removed]",
      "text/plain": [
       "<Figure size 432x288 with 1 Axes>"
      ]
     },
     "metadata": {
      "needs_background": "light"
     },
     "output_type": "display_data"
    }
   ],
   "source": [
    "show_highest_procedure_code_fradulent_data()"
   ]
  },
  {
   "cell_type": "markdown",
   "metadata": {},
   "source": [
    "plot_for_state_diagnosis_code() displays the top 3 Diagnosis code for the given potential fraudulent state."
   ]
  },
  {
   "cell_type": "code",
   "execution_count": 16,
   "metadata": {},
   "outputs": [],
   "source": [
    "def plot_for_state_diagnosis_code(State):\n",
    "    testList = y_predict.tolist()\n",
    "    test_all_patient_data = process_test_data()\n",
    "    test_all_patient_data['label'] = testList\n",
    "    fradulent_patient_data = test_all_patient_data[test_all_patient_data.label == 1]\n",
    "    fradulent_patient_data = fradulent_patient_data.fillna(0)\n",
    "\n",
    "    df_1 = fradulent_patient_data[fradulent_patient_data['State']== State]\n",
    "    df_1.head()\n",
    "    df_3 = df_1[df_1['Provider']== df_1['Provider'].value_counts().head().index[0]]\n",
    "    df_4 = df_1[df_1['Provider']== df_1['Provider'].value_counts().head().index[1]]\n",
    "    df_5 = df_1[df_1['Provider']== df_1['Provider'].value_counts().head().index[2]]\n",
    "    df_2 = pd.concat([df_3, df_4, df_5], ignore_index=True)\n",
    "    df_diagnosis =  pd.DataFrame(columns = ['Diagnosis'])\n",
    "    df_diagnosis['Diagnosis'] = pd.concat([df_2['ClmDiagnosisCode_1'], \n",
    "                                                 df_2['ClmDiagnosisCode_2'],\n",
    "                                          df_2['ClmDiagnosisCode_3'],\n",
    "                                          df_2['ClmDiagnosisCode_4'],\n",
    "                                          df_2['ClmDiagnosisCode_5'],\n",
    "                                          df_2['ClmDiagnosisCode_6'],\n",
    "                                          df_2['ClmDiagnosisCode_7'],\n",
    "                                          df_2['ClmDiagnosisCode_8'],\n",
    "                                          df_2['ClmDiagnosisCode_9'],\n",
    "                                          df_2['ClmDiagnosisCode_10'],], \n",
    "                                              axis=0, sort=True).dropna()\n",
    "\n",
    "    grouped_diagnosis = df_diagnosis['Diagnosis'].value_counts().head().iloc[1:]\n",
    "    grouped_diagnosis = grouped_diagnosis.to_frame()\n",
    "    grouped_diagnosis.columns = ['count']\n",
    "    grouped_diagnosis['Diagnosis'] = grouped_diagnosis.index\n",
    "    grouped_diagnosis['Percentage'] = (grouped_diagnosis['count']/sum(grouped_diagnosis['count']))*100\n",
    "\n",
    "    plot_diagnosis = grouped_diagnosis.iloc[1:].head(20)\n",
    "    plot_diagnosis.plot(x ='Diagnosis', y='Percentage', kind = 'bar', color = 'g')"
   ]
  },
  {
   "cell_type": "markdown",
   "metadata": {},
   "source": [
    "state_fraud() helps to find the state with most number of potential fraud records. (Here, smaller value represents potential fraud as the records are labeled as -1 which decreases the sum of all the labels assigned to that state)"
   ]
  },
  {
   "cell_type": "code",
   "execution_count": 17,
   "metadata": {},
   "outputs": [],
   "source": [
    "def state_fraud(X_train_original):\n",
    "    print(\"Sates with most suspected fradulaent cases.\")\n",
    "    X_train_original.groupby('State')['Label'].sum().plot(kind='bar')\n",
    "    X_t = X_train_original.groupby('State')['Label'].sum()\n",
    "    print(X_t.nsmallest(5))"
   ]
  },
  {
   "cell_type": "markdown",
   "metadata": {},
   "source": [
    "state_provider() helps to find the state with maximum number of provider institutions."
   ]
  },
  {
   "cell_type": "code",
   "execution_count": 18,
   "metadata": {},
   "outputs": [],
   "source": [
    "def state_provider(X_train_original):\n",
    "    print(\"Sates with maximum number of provider institution.\")\n",
    "    X_display = X_train_original\n",
    "    X_display.groupby('State')['Provider Institution'].nunique().plot(kind='bar')\n",
    "    X_p = X_display.groupby('State')['Provider Institution'].nunique()\n",
    "    print(X_p.nlargest(5))"
   ]
  },
  {
   "cell_type": "markdown",
   "metadata": {},
   "source": [
    "state_fraud_non() displays the ratio of percentages of potential fraud to non-fraud cases in every state."
   ]
  },
  {
   "cell_type": "code",
   "execution_count": 19,
   "metadata": {},
   "outputs": [],
   "source": [
    "def state_fraud_non(X_train_original):\n",
    "    print(\"Ratio of fraudulent to non-fraudulent cases.\")\n",
    "    X_train_original.groupby(['State','Label']).size().groupby(level=0).apply(lambda x: 100 * x / x.sum()).unstack().plot(kind='bar',stacked=True)\n",
    "    plt.gca().yaxis.set_major_formatter(mtick.PercentFormatter())\n",
    "    plt.show()"
   ]
  },
  {
   "cell_type": "markdown",
   "metadata": {},
   "source": [
    "state_vs_fraud_providers_graphs() calls all the state related graph display functions."
   ]
  },
  {
   "cell_type": "code",
   "execution_count": 20,
   "metadata": {},
   "outputs": [],
   "source": [
    "def state_vs_fraud_providers_graphs():\n",
    "    train_all_patient_data = clean_data()\n",
    "    X_train_original = train_all_patient_data.iloc[:50000,:]\n",
    "    X_tr, X_te = data_conversion_to_number()\n",
    "    sc = StandardScaler() \n",
    "    X = sc.fit_transform(X_tr)\n",
    "    clf = LocalOutlierFactor(n_neighbors=2)\n",
    "    X_train = pd.DataFrame(X).iloc[:50000,:]\n",
    "    y_train = clf.fit_predict(X_train)\n",
    "    labelList = y_train.tolist()\n",
    "    X_train_original['Label'] = labelList\n",
    "    state_fraud(X_train_original)\n",
    "    state_fraud_non(X_train_original)\n",
    "    state_provider(X_train_original)"
   ]
  },
  {
   "cell_type": "code",
   "execution_count": 21,
   "metadata": {},
   "outputs": [
    {
     "name": "stdout",
     "output_type": "stream",
     "text": [
      "Sates with most suspected fradulaent cases.\n",
      "State\n",
      "47    19\n",
      "9     41\n",
      "53    57\n",
      "8     69\n",
      "2     70\n",
      "Name: Label, dtype: int64\n",
      "Ratio of fraudulent to non-fraudulent cases.\n"
     ]
    },
    {
     "data": {
      "image/png": "[encoded data removed]",
      "text/plain": [
       "<Figure size 432x288 with 1 Axes>"
      ]
     },
     "metadata": {
      "needs_background": "light"
     },
     "output_type": "display_data"
    },
    {
     "data": {
      "image/png": "[encoded data removed]",
      "text/plain": [
       "<Figure size 432x288 with 1 Axes>"
      ]
     },
     "metadata": {
      "needs_background": "light"
     },
     "output_type": "display_data"
    },
    {
     "name": "stdout",
     "output_type": "stream",
     "text": [
      "Sates with maximum number of provider institution.\n",
      "State\n",
      "10    794\n",
      "5     603\n",
      "33    454\n",
      "45    450\n",
      "3     295\n",
      "Name: Provider Institution, dtype: int64\n"
     ]
    },
    {
     "data": {
      "image/png": "[encoded data removed]",
      "text/plain": [
       "<Figure size 432x288 with 1 Axes>"
      ]
     },
     "metadata": {
      "needs_background": "light"
     },
     "output_type": "display_data"
    }
   ],
   "source": [
    "state_vs_fraud_providers_graphs()"
   ]
  },
  {
   "cell_type": "markdown",
   "metadata": {},
   "source": [
    "Using the plot_for_state_diagnosis_code(), the graphs are displayed for the top 3 states with the most fraudulent cases obtained above."
   ]
  },
  {
   "cell_type": "code",
   "execution_count": 22,
   "metadata": {},
   "outputs": [
    {
     "data": {
      "image/png": "[encoded data removed]",
      "text/plain": [
       "<Figure size 432x288 with 1 Axes>"
      ]
     },
     "metadata": {
      "needs_background": "light"
     },
     "output_type": "display_data"
    },
    {
     "data": {
      "image/png": "[encoded data removed]",
      "text/plain": [
       "<Figure size 432x288 with 1 Axes>"
      ]
     },
     "metadata": {
      "needs_background": "light"
     },
     "output_type": "display_data"
    },
    {
     "data": {
      "image/png": "[encoded data removed]",
      "text/plain": [
       "<Figure size 432x288 with 1 Axes>"
      ]
     },
     "metadata": {
      "needs_background": "light"
     },
     "output_type": "display_data"
    }
   ],
   "source": [
    "list =[47, 9, 53]\n",
    "for i in range(len(list)): \n",
    "    plot_for_state_diagnosis_code(list[i])"
   ]
  },
  {
   "cell_type": "markdown",
   "metadata": {},
   "source": [
    "max_claim_vs_DGC() displays the averaged Claim Payment Amount for every unique Diagnosis group code."
   ]
  },
  {
   "cell_type": "code",
   "execution_count": 23,
   "metadata": {},
   "outputs": [],
   "source": [
    "def max_claim_vs_DGC():\n",
    "    train_inpatient_data = clean_inpatient_data()\n",
    "    df_claimPaymentAmount = train_inpatient_data.groupby('Diagnosis Group Code')['Claim Payment Amount'].sum()\n",
    "    df_admitDays = train_inpatient_data.groupby('Diagnosis Group Code')['AdmitForDays'].sum()\n",
    "    df_averaged = df_claimPaymentAmount/df_admitDays\n",
    "    df_averaged.plot()"
   ]
  },
  {
   "cell_type": "code",
   "execution_count": 24,
   "metadata": {},
   "outputs": [
    {
     "data": {
      "image/png": "[encoded data removed]",
      "text/plain": [
       "<Figure size 432x288 with 1 Axes>"
      ]
     },
     "metadata": {
      "needs_background": "light"
     },
     "output_type": "display_data"
    }
   ],
   "source": [
    "max_claim_vs_DGC()"
   ]
  },
  {
   "cell_type": "markdown",
   "metadata": {},
   "source": [
    "df_averaged_sorted() displays the sorted values graph for the above graph"
   ]
  },
  {
   "cell_type": "code",
   "execution_count": 25,
   "metadata": {},
   "outputs": [],
   "source": [
    "def df_averaged_sorted():\n",
    "    train_inpatient_data = clean_inpatient_data()\n",
    "    df_claimPaymentAmount = train_inpatient_data.groupby('Diagnosis Group Code')['Claim Payment Amount'].sum()\n",
    "    df_admitDays = train_inpatient_data.groupby('Diagnosis Group Code')['AdmitForDays'].sum()\n",
    "    df = df_claimPaymentAmount/df_admitDays\n",
    "    df.sort_values(ascending=False).plot()"
   ]
  },
  {
   "cell_type": "code",
   "execution_count": 26,
   "metadata": {},
   "outputs": [
    {
     "data": {
      "image/png": "[encoded data removed]",
      "text/plain": [
       "<Figure size 432x288 with 1 Axes>"
      ]
     },
     "metadata": {
      "needs_background": "light"
     },
     "output_type": "display_data"
    }
   ],
   "source": [
    "df_averaged_sorted()"
   ]
  },
  {
   "cell_type": "markdown",
   "metadata": {},
   "source": [
    "provider_AnRA() displays the Annual Reimbursement Amount for every unique provider."
   ]
  },
  {
   "cell_type": "code",
   "execution_count": 27,
   "metadata": {},
   "outputs": [],
   "source": [
    "def provider_AnRA():\n",
    "    train_all_patient_data = clean_data()\n",
    "    X_train_original = train_all_patient_data.iloc[:50000,:]\n",
    "    X_tr, X_te = data_conversion_to_number()\n",
    "    sc = StandardScaler() \n",
    "    X = sc.fit_transform(X_tr)\n",
    "    clf = LocalOutlierFactor(n_neighbors=2)\n",
    "    X_train = pd.DataFrame(X).iloc[:50000,:]\n",
    "    y_train = clf.fit_predict(X_train)\n",
    "    labelList = y_train.tolist()\n",
    "    X_train_original['Label'] = labelList    \n",
    "    X_train_original.groupby('Provider Institution')['IP Annual Reimbersement Amt'].sum().plot()"
   ]
  },
  {
   "cell_type": "code",
   "execution_count": 28,
   "metadata": {},
   "outputs": [
    {
     "data": {
      "image/png": "[encoded data removed]",
      "text/plain": [
       "<Figure size 432x288 with 1 Axes>"
      ]
     },
     "metadata": {
      "needs_background": "light"
     },
     "output_type": "display_data"
    }
   ],
   "source": [
    "provider_AnRA()"
   ]
  },
  {
   "cell_type": "markdown",
   "metadata": {},
   "source": [
    "fraud_vs_non_fraud() displays number of fraudulent/non-fraudulent records in the training set."
   ]
  },
  {
   "cell_type": "code",
   "execution_count": 29,
   "metadata": {},
   "outputs": [],
   "source": [
    "def fraud_vs_non_fraud():\n",
    "    train_all_patient_data = clean_data()\n",
    "    X_train_original = train_all_patient_data.iloc[:50000,:]\n",
    "    X_tr, X_te = data_conversion_to_number()\n",
    "    sc = StandardScaler() \n",
    "    X = sc.fit_transform(X_tr)\n",
    "    clf = LocalOutlierFactor(n_neighbors=2)\n",
    "    X_train = pd.DataFrame(X).iloc[:50000,:]\n",
    "    y_train = clf.fit_predict(X_train)\n",
    "    labelList = y_train.tolist()\n",
    "    X_train['Label'] = labelList \n",
    "    count_classes_provider = pd.value_counts(X_train['Label'], sort = True)\n",
    "    LABELS = [\"Non Fraud\", \"Fraud\"]\n",
    "    count_classes_provider.plot(kind = 'bar', rot=0,figsize=(10,6),color=['black', 'red', 'green', 'blue', 'cyan'])\n",
    "    plt.title(\"Potential Fraud distribution in individual Providers data\")\n",
    "    plt.xticks(range(2), LABELS)\n",
    "    plt.xlabel(\"Potential Fraud Class \")\n",
    "    plt.ylabel(\"Number of PotentialFraud per Class \")\n",
    "    plt.savefig('PotentialFraudDistributionImbalance')"
   ]
  },
  {
   "cell_type": "code",
   "execution_count": 30,
   "metadata": {},
   "outputs": [
    {
     "data": {
      "image/png": "[encoded data removed]",
      "text/plain": [
       "<Figure size 720x432 with 1 Axes>"
      ]
     },
     "metadata": {
      "needs_background": "light"
     },
     "output_type": "display_data"
    }
   ],
   "source": [
    "fraud_vs_non_fraud()"
   ]
  },
  {
   "cell_type": "code",
   "execution_count": null,
   "metadata": {},
   "outputs": [],
   "source": []
  }
 ],
 "metadata": {
  "kernelspec": {
   "display_name": "Python 3",
   "language": "python",
   "name": "python3"
  },
  "language_info": {
   "codemirror_mode": {
    "name": "ipython",
    "version": 3
   },
   "file_extension": ".py",
   "mimetype": "text/x-python",
   "name": "python",
   "nbconvert_exporter": "python",
   "pygments_lexer": "ipython3",
   "version": "3.7.4"
  }
 },
 "nbformat": 4,
 "nbformat_minor": 2
}
